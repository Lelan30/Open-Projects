{
  "nbformat": 4,
  "nbformat_minor": 0,
  "metadata": {
    "colab": {
      "provenance": []
    },
    "kernelspec": {
      "name": "python3",
      "display_name": "Python 3"
    },
    "language_info": {
      "name": "python"
    }
  },
  "cells": [
    {
      "cell_type": "markdown",
      "source": [
        "Gameplan:\n",
        "\n",
        "[Youtube](https://)\n",
        "\n",
        "[Langchain](https:https://python.langchain.com/en/latest/index.html//)\n"
      ],
      "metadata": {
        "id": "gIrw4zybtm0J"
      }
    },
    {
      "cell_type": "code",
      "execution_count": null,
      "metadata": {
        "id": "MnFL8sRfseZP"
      },
      "outputs": [],
      "source": [
        "!pip install langchain openai eiapy streamlit"
      ]
    },
    {
      "cell_type": "code",
      "source": [
        "import os\n",
        "from apikey import apikey\n"
      ],
      "metadata": {
        "id": "ft5jYTDVzMg8"
      },
      "execution_count": null,
      "outputs": []
    },
    {
      "cell_type": "code",
      "source": [
        "import streamlit as st\n",
        "from langchain.llms import OpenAI\n",
        "from langchain.prompts import PromptTemplate\n",
        "from langchain.chains import LLMChain, SequentialChain\n",
        "from langchain.memory import ConversationBufferMemory\n",
        "from langchain.utilities import WikipediaAPIWrapper\n"
      ],
      "metadata": {
        "id": "oKoU6NWszhnY"
      },
      "execution_count": 17,
      "outputs": []
    },
    {
      "cell_type": "code",
      "source": [
        "os.environ['OPENAI_API_KEY'] = apikey"
      ],
      "metadata": {
        "id": "Nq1uMkTqbD8T"
      },
      "execution_count": null,
      "outputs": []
    },
    {
      "cell_type": "code",
      "source": [
        "from langchain.prompts.prompt import PromptTemplate\n",
        "# App framework\n",
        "st.title('🦜🔗 YouTube GPT Creator')\n",
        "prompt = st.text_input('Plug in your prompt here')\n",
        "\n",
        "# Prompt templates\n",
        "title_template = PromptTemplate(\n",
        "    input_variables = ['topic'],\n",
        "    template = 'write me a youtube video title'\n",
        ")\n",
        "\n",
        "script_template = PromptTemplate(\n",
        "    input_variables = ['title', 'wikipedia_research'],\n",
        "    template = 'write me a youtube script based on this title TITLE: {title} while leveraging this wikipedia reserch:{wikipedia_research'\n",
        ")\n",
        "\n",
        "# Memory\n",
        "title_memory = ConversationBufferMemory(input_key = 'topic', memory_key = 'chat_history')\n",
        "script_memory = ConversationBufferMemory(input_key = 'title', memory_key = 'chat_history')\n",
        "\n",
        "# Llms\n",
        "llm = OpenAi(temperature = 0.9)\n",
        "title_chain = LLMChain(llm = llm, prompt = title_template, verbose = True, output_key = 'title', memory = title_memory)\n",
        "script_chain = LLMChain(llm = llm, prompt = title_template, verbose = True, output_key = 'title', memory = script_memory)\n",
        "\n",
        "wiki = WikipediaAPIWrapper()\n",
        "\n",
        "# Show stuff to the screen if there's a prompt\n",
        "if prompt:\n",
        "  title = title_chain.run(prompt)\n",
        "  wiki_research = wiki.run(prompt)\n",
        "  script = script_chain(title = title, wikipedia_research = wiki_research)\n",
        "\n",
        "  st.write(title)\n",
        "  st.write(script)\n",
        "\n",
        "  with st.expander('Title History'):\n",
        "    st.info(title_memory.buffer)\n",
        "\n",
        "  with st.expander('Script History'):\n",
        "    st.info(script_memory.buffer)\n",
        "\n",
        "  with st.expander('Wikipedia Research'):\n",
        "    st.info(wiki_research)\n"
      ],
      "metadata": {
        "id": "71fiyIL945DC"
      },
      "execution_count": null,
      "outputs": []
    }
  ]
}