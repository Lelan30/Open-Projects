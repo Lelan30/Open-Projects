{
  "nbformat": 4,
  "nbformat_minor": 0,
  "metadata": {
    "colab": {
      "provenance": []
    },
    "kernelspec": {
      "name": "python3",
      "display_name": "Python 3"
    },
    "language_info": {
      "name": "python"
    }
  },
  "cells": [
    {
      "cell_type": "code",
      "source": [
        "!pip install pingouin\n"
      ],
      "metadata": {
        "colab": {
          "base_uri": "https://localhost:8080/"
        },
        "id": "LnpbwyO3yRi4",
        "outputId": "76763a72-da45-446d-8b93-17a4a11edb9d"
      },
      "execution_count": 2,
      "outputs": [
        {
          "output_type": "stream",
          "name": "stdout",
          "text": [
            "Looking in indexes: https://pypi.org/simple, https://us-python.pkg.dev/colab-wheels/public/simple/\n",
            "Collecting pingouin\n",
            "  Downloading pingouin-0.5.3-py3-none-any.whl (198 kB)\n",
            "\u001b[2K     \u001b[90m━━━━━━━━━━━━━━━━━━━━━━━━━━━━━━━━━━━━━━━\u001b[0m \u001b[32m198.6/198.6 KB\u001b[0m \u001b[31m1.7 MB/s\u001b[0m eta \u001b[36m0:00:00\u001b[0m\n",
            "\u001b[?25hCollecting outdated\n",
            "  Downloading outdated-0.2.2-py2.py3-none-any.whl (7.5 kB)\n",
            "Requirement already satisfied: scipy>=1.7 in /usr/local/lib/python3.9/dist-packages (from pingouin) (1.10.1)\n",
            "Requirement already satisfied: statsmodels>=0.13 in /usr/local/lib/python3.9/dist-packages (from pingouin) (0.13.5)\n",
            "Requirement already satisfied: matplotlib>=3.0.2 in /usr/local/lib/python3.9/dist-packages (from pingouin) (3.7.1)\n",
            "Requirement already satisfied: tabulate in /usr/local/lib/python3.9/dist-packages (from pingouin) (0.8.10)\n",
            "Requirement already satisfied: numpy>=1.19 in /usr/local/lib/python3.9/dist-packages (from pingouin) (1.22.4)\n",
            "Requirement already satisfied: scikit-learn in /usr/local/lib/python3.9/dist-packages (from pingouin) (1.2.2)\n",
            "Requirement already satisfied: pandas>=1.0 in /usr/local/lib/python3.9/dist-packages (from pingouin) (1.4.4)\n",
            "Collecting pandas-flavor>=0.2.0\n",
            "  Downloading pandas_flavor-0.5.0-py3-none-any.whl (7.1 kB)\n",
            "Requirement already satisfied: seaborn>=0.11 in /usr/local/lib/python3.9/dist-packages (from pingouin) (0.12.2)\n",
            "Requirement already satisfied: importlib-resources>=3.2.0 in /usr/local/lib/python3.9/dist-packages (from matplotlib>=3.0.2->pingouin) (5.12.0)\n",
            "Requirement already satisfied: python-dateutil>=2.7 in /usr/local/lib/python3.9/dist-packages (from matplotlib>=3.0.2->pingouin) (2.8.2)\n",
            "Requirement already satisfied: cycler>=0.10 in /usr/local/lib/python3.9/dist-packages (from matplotlib>=3.0.2->pingouin) (0.11.0)\n",
            "Requirement already satisfied: pillow>=6.2.0 in /usr/local/lib/python3.9/dist-packages (from matplotlib>=3.0.2->pingouin) (8.4.0)\n",
            "Requirement already satisfied: kiwisolver>=1.0.1 in /usr/local/lib/python3.9/dist-packages (from matplotlib>=3.0.2->pingouin) (1.4.4)\n",
            "Requirement already satisfied: fonttools>=4.22.0 in /usr/local/lib/python3.9/dist-packages (from matplotlib>=3.0.2->pingouin) (4.39.3)\n",
            "Requirement already satisfied: contourpy>=1.0.1 in /usr/local/lib/python3.9/dist-packages (from matplotlib>=3.0.2->pingouin) (1.0.7)\n",
            "Requirement already satisfied: pyparsing>=2.3.1 in /usr/local/lib/python3.9/dist-packages (from matplotlib>=3.0.2->pingouin) (3.0.9)\n",
            "Requirement already satisfied: packaging>=20.0 in /usr/local/lib/python3.9/dist-packages (from matplotlib>=3.0.2->pingouin) (23.0)\n",
            "Requirement already satisfied: pytz>=2020.1 in /usr/local/lib/python3.9/dist-packages (from pandas>=1.0->pingouin) (2022.7.1)\n",
            "Requirement already satisfied: lazy-loader>=0.1 in /usr/local/lib/python3.9/dist-packages (from pandas-flavor>=0.2.0->pingouin) (0.2)\n",
            "Requirement already satisfied: xarray in /usr/local/lib/python3.9/dist-packages (from pandas-flavor>=0.2.0->pingouin) (2022.12.0)\n",
            "Requirement already satisfied: patsy>=0.5.2 in /usr/local/lib/python3.9/dist-packages (from statsmodels>=0.13->pingouin) (0.5.3)\n",
            "Requirement already satisfied: requests in /usr/local/lib/python3.9/dist-packages (from outdated->pingouin) (2.27.1)\n",
            "Collecting littleutils\n",
            "  Downloading littleutils-0.2.2.tar.gz (6.6 kB)\n",
            "  Preparing metadata (setup.py) ... \u001b[?25l\u001b[?25hdone\n",
            "Requirement already satisfied: setuptools>=44 in /usr/local/lib/python3.9/dist-packages (from outdated->pingouin) (67.6.1)\n",
            "Requirement already satisfied: threadpoolctl>=2.0.0 in /usr/local/lib/python3.9/dist-packages (from scikit-learn->pingouin) (3.1.0)\n",
            "Requirement already satisfied: joblib>=1.1.1 in /usr/local/lib/python3.9/dist-packages (from scikit-learn->pingouin) (1.1.1)\n",
            "Requirement already satisfied: zipp>=3.1.0 in /usr/local/lib/python3.9/dist-packages (from importlib-resources>=3.2.0->matplotlib>=3.0.2->pingouin) (3.15.0)\n",
            "Requirement already satisfied: six in /usr/local/lib/python3.9/dist-packages (from patsy>=0.5.2->statsmodels>=0.13->pingouin) (1.16.0)\n",
            "Requirement already satisfied: idna<4,>=2.5 in /usr/local/lib/python3.9/dist-packages (from requests->outdated->pingouin) (3.4)\n",
            "Requirement already satisfied: certifi>=2017.4.17 in /usr/local/lib/python3.9/dist-packages (from requests->outdated->pingouin) (2022.12.7)\n",
            "Requirement already satisfied: charset-normalizer~=2.0.0 in /usr/local/lib/python3.9/dist-packages (from requests->outdated->pingouin) (2.0.12)\n",
            "Requirement already satisfied: urllib3<1.27,>=1.21.1 in /usr/local/lib/python3.9/dist-packages (from requests->outdated->pingouin) (1.26.15)\n",
            "Building wheels for collected packages: littleutils\n",
            "  Building wheel for littleutils (setup.py) ... \u001b[?25l\u001b[?25hdone\n",
            "  Created wheel for littleutils: filename=littleutils-0.2.2-py3-none-any.whl size=7048 sha256=b1fb03892c4e28b03766e6a6846473233767268079f248827b70c59600c9c98c\n",
            "  Stored in directory: /root/.cache/pip/wheels/04/bb/0d/2d02ec45f29c48d6192476bfb59c5a0e64b605e7212374dd15\n",
            "Successfully built littleutils\n",
            "Installing collected packages: littleutils, outdated, pandas-flavor, pingouin\n",
            "Successfully installed littleutils-0.2.2 outdated-0.2.2 pandas-flavor-0.5.0 pingouin-0.5.3\n"
          ]
        }
      ]
    },
    {
      "cell_type": "code",
      "execution_count": 3,
      "metadata": {
        "id": "6nvYka3RxJkY"
      },
      "outputs": [],
      "source": [
        "import numpy as np\n",
        "import pandas as pd\n",
        "import matplotlib.pyplot as plt\n",
        "import seaborn as sns\n",
        "import pingouin as pg\n",
        "import statsmodels.formula.api as smf\n",
        "from statsmodels.stats.proportion import proportions_ztest\n",
        "from collections import Counter\n",
        "sns.set_style('whitegrid')\n",
        "pd.options.mode.chained_assignment = None # default='warn'"
      ]
    },
    {
      "cell_type": "markdown",
      "source": [
        "We can study our dataset by checking for existing columns."
      ],
      "metadata": {
        "id": "PFn1tkHW44tj"
      }
    },
    {
      "cell_type": "code",
      "source": [
        "complete_protest = pd.read_csv(\"GlobalProtestTracker.csv\")\n",
        "# Check for general information\n",
        "complete_protest.info()"
      ],
      "metadata": {
        "colab": {
          "base_uri": "https://localhost:8080/"
        },
        "id": "fzk_KqI4ypeg",
        "outputId": "945d1267-dd97-4a14-803e-4eb394bad19f"
      },
      "execution_count": 4,
      "outputs": [
        {
          "output_type": "stream",
          "name": "stdout",
          "text": [
            "<class 'pandas.core.frame.DataFrame'>\n",
            "RangeIndex: 329 entries, 0 to 328\n",
            "Data columns (total 21 columns):\n",
            " #   Column                                    Non-Null Count  Dtype \n",
            "---  ------                                    --------------  ----- \n",
            " 0   Country                                   329 non-null    object\n",
            " 1   Protest Name                              329 non-null    object\n",
            " 2   Start Date                                329 non-null    object\n",
            " 3   Freedom Rating (Status)                   329 non-null    object\n",
            " 4   Triggers                                  329 non-null    object\n",
            " 5   Motivations                               329 non-null    object\n",
            " 6   Peak Size                                 329 non-null    object\n",
            " 7   Key Participants                          328 non-null    object\n",
            " 8   Duration                                  329 non-null    object\n",
            " 9   Outcomes                                  328 non-null    object\n",
            " 10  Active protests                           17 non-null     object\n",
            " 11  Economic motivation?                      117 non-null    object\n",
            " 12  Political motivation?                     286 non-null    object\n",
            " 13  Corruption motivation?                    66 non-null     object\n",
            " 14  Size category                             329 non-null    object\n",
            " 15  Protests with a significant outcome       99 non-null     object\n",
            " 16  Large protests (Over 100,000 protesting)  50 non-null     object\n",
            " 17  Violent government response               90 non-null     object\n",
            " 18  Long protests (more than 3 months)        80 non-null     object\n",
            " 19  Coronavirus-related protests              48 non-null     object\n",
            " 20  Capital city                              328 non-null    object\n",
            "dtypes: object(21)\n",
            "memory usage: 54.1+ KB\n"
          ]
        }
      ]
    },
    {
      "cell_type": "code",
      "source": [
        "hum_freedom_complete = pd.read_csv(\"Aggregate_Category_and_Subcategory_Scores_FIW_2006-2022.csv\")\n",
        "hum_freedom_complete.info()\n",
        "hum_freedom_complete.columns"
      ],
      "metadata": {
        "colab": {
          "base_uri": "https://localhost:8080/"
        },
        "id": "6Gqc4XFq5xAp",
        "outputId": "33a4bed4-d1a0-4956-d84d-64f34f0fa2fe"
      },
      "execution_count": 5,
      "outputs": [
        {
          "output_type": "stream",
          "name": "stdout",
          "text": [
            "<class 'pandas.core.frame.DataFrame'>\n",
            "RangeIndex: 3549 entries, 0 to 3548\n",
            "Data columns (total 35 columns):\n",
            " #   Column             Non-Null Count  Dtype  \n",
            "---  ------             --------------  -----  \n",
            " 0   Country/Territory  3549 non-null   object \n",
            " 1   Region             3549 non-null   object \n",
            " 2   C/T?               3549 non-null   object \n",
            " 3   Edition            3549 non-null   int64  \n",
            " 4   Status             3549 non-null   object \n",
            " 5   PR Rating          3549 non-null   int64  \n",
            " 6   CL Rating          3549 non-null   int64  \n",
            " 7   A                  3549 non-null   int64  \n",
            " 8   B                  3549 non-null   int64  \n",
            " 9   C                  3549 non-null   int64  \n",
            " 10  Add Q              3549 non-null   int64  \n",
            " 11  Add A              2501 non-null   float64\n",
            " 12  PR                 3549 non-null   int64  \n",
            " 13  D                  3549 non-null   int64  \n",
            " 14  E                  3549 non-null   int64  \n",
            " 15  F                  3549 non-null   int64  \n",
            " 16  G                  3549 non-null   int64  \n",
            " 17  CL                 3549 non-null   int64  \n",
            " 18  Total              3549 non-null   int64  \n",
            " 19  Unnamed: 19        0 non-null      float64\n",
            " 20  Unnamed: 20        0 non-null      float64\n",
            " 21  Unnamed: 21        0 non-null      float64\n",
            " 22  Unnamed: 22        0 non-null      float64\n",
            " 23  Unnamed: 23        0 non-null      float64\n",
            " 24  Unnamed: 24        0 non-null      float64\n",
            " 25  Unnamed: 25        0 non-null      float64\n",
            " 26  Unnamed: 26        0 non-null      float64\n",
            " 27  Unnamed: 27        0 non-null      float64\n",
            " 28  Unnamed: 28        0 non-null      float64\n",
            " 29  Unnamed: 29        0 non-null      float64\n",
            " 30  Unnamed: 30        0 non-null      float64\n",
            " 31  Unnamed: 31        0 non-null      float64\n",
            " 32  Unnamed: 32        0 non-null      float64\n",
            " 33  Unnamed: 33        0 non-null      float64\n",
            " 34  x                  0 non-null      float64\n",
            "dtypes: float64(17), int64(14), object(4)\n",
            "memory usage: 970.6+ KB\n"
          ]
        },
        {
          "output_type": "execute_result",
          "data": {
            "text/plain": [
              "Index(['Country/Territory', 'Region', 'C/T?', 'Edition', 'Status', 'PR Rating',\n",
              "       'CL Rating', 'A', 'B', 'C', 'Add Q', 'Add A', 'PR', 'D', 'E', 'F', 'G',\n",
              "       'CL', 'Total', 'Unnamed: 19', 'Unnamed: 20', 'Unnamed: 21',\n",
              "       'Unnamed: 22', 'Unnamed: 23', 'Unnamed: 24', 'Unnamed: 25',\n",
              "       'Unnamed: 26', 'Unnamed: 27', 'Unnamed: 28', 'Unnamed: 29',\n",
              "       'Unnamed: 30', 'Unnamed: 31', 'Unnamed: 32', 'Unnamed: 33', 'x'],\n",
              "      dtype='object')"
            ]
          },
          "metadata": {},
          "execution_count": 5
        }
      ]
    },
    {
      "cell_type": "markdown",
      "source": [
        "Select he columns for following analysis"
      ],
      "metadata": {
        "id": "G9PobfBB6etv"
      }
    },
    {
      "cell_type": "code",
      "source": [
        "protest = complete_protest.iloc[:, [0 , 1, 2, 3, 6, 7, 8, 10, \n",
        "                                    11, 12, 13, 14, 15, 16, 17, 18, 19]]\n",
        "hum_freedom = hum_freedom_complete.iloc[:, [0, 3, 12, 17, 18]]\n",
        "protest.info()\n",
        "hum_freedom.info()                                    "
      ],
      "metadata": {
        "colab": {
          "base_uri": "https://localhost:8080/"
        },
        "id": "8kyS8Jpl6ZM0",
        "outputId": "39499f45-8177-4b8f-c4ea-5ae3df43a5ce"
      },
      "execution_count": 6,
      "outputs": [
        {
          "output_type": "stream",
          "name": "stdout",
          "text": [
            "<class 'pandas.core.frame.DataFrame'>\n",
            "RangeIndex: 329 entries, 0 to 328\n",
            "Data columns (total 17 columns):\n",
            " #   Column                                    Non-Null Count  Dtype \n",
            "---  ------                                    --------------  ----- \n",
            " 0   Country                                   329 non-null    object\n",
            " 1   Protest Name                              329 non-null    object\n",
            " 2   Start Date                                329 non-null    object\n",
            " 3   Freedom Rating (Status)                   329 non-null    object\n",
            " 4   Peak Size                                 329 non-null    object\n",
            " 5   Key Participants                          328 non-null    object\n",
            " 6   Duration                                  329 non-null    object\n",
            " 7   Active protests                           17 non-null     object\n",
            " 8   Economic motivation?                      117 non-null    object\n",
            " 9   Political motivation?                     286 non-null    object\n",
            " 10  Corruption motivation?                    66 non-null     object\n",
            " 11  Size category                             329 non-null    object\n",
            " 12  Protests with a significant outcome       99 non-null     object\n",
            " 13  Large protests (Over 100,000 protesting)  50 non-null     object\n",
            " 14  Violent government response               90 non-null     object\n",
            " 15  Long protests (more than 3 months)        80 non-null     object\n",
            " 16  Coronavirus-related protests              48 non-null     object\n",
            "dtypes: object(17)\n",
            "memory usage: 43.8+ KB\n",
            "<class 'pandas.core.frame.DataFrame'>\n",
            "RangeIndex: 3549 entries, 0 to 3548\n",
            "Data columns (total 5 columns):\n",
            " #   Column             Non-Null Count  Dtype \n",
            "---  ------             --------------  ----- \n",
            " 0   Country/Territory  3549 non-null   object\n",
            " 1   Edition            3549 non-null   int64 \n",
            " 2   PR                 3549 non-null   int64 \n",
            " 3   CL                 3549 non-null   int64 \n",
            " 4   Total              3549 non-null   int64 \n",
            "dtypes: int64(4), object(1)\n",
            "memory usage: 138.8+ KB\n"
          ]
        }
      ]
    },
    {
      "cell_type": "markdown",
      "source": [
        "Adjust some columns names for the sake of clarity"
      ],
      "metadata": {
        "id": "VCdnLkCr7RyL"
      }
    },
    {
      "cell_type": "code",
      "source": [
        "# Make some alterationd in hum_freedom table brfore using it\n",
        "hum_freedom = hum_freedom.rename(columns={'Edition':'Year', 'PR':'Pltc_rights_scr',\n",
        "                                          'CL':'Cvl_rights_scr', 'Total':'Total_scr',})\n",
        "hum_freedom.info()"
      ],
      "metadata": {
        "colab": {
          "base_uri": "https://localhost:8080/"
        },
        "id": "OG3E33XF7Pbt",
        "outputId": "fdd6feae-298a-4e62-c763-b2af72a4bb4c"
      },
      "execution_count": 7,
      "outputs": [
        {
          "output_type": "stream",
          "name": "stdout",
          "text": [
            "<class 'pandas.core.frame.DataFrame'>\n",
            "RangeIndex: 3549 entries, 0 to 3548\n",
            "Data columns (total 5 columns):\n",
            " #   Column             Non-Null Count  Dtype \n",
            "---  ------             --------------  ----- \n",
            " 0   Country/Territory  3549 non-null   object\n",
            " 1   Year               3549 non-null   int64 \n",
            " 2   Pltc_rights_scr    3549 non-null   int64 \n",
            " 3   Cvl_rights_scr     3549 non-null   int64 \n",
            " 4   Total_scr          3549 non-null   int64 \n",
            "dtypes: int64(4), object(1)\n",
            "memory usage: 138.8+ KB\n"
          ]
        }
      ]
    },
    {
      "cell_type": "markdown",
      "source": [
        "Correct columns with country names to meet the consistancy requirement"
      ],
      "metadata": {
        "id": "9Xnu9H668N3e"
      }
    },
    {
      "cell_type": "code",
      "source": [
        "# Setting for consistancy withon country names colimn\n",
        "print(protest['Country'].nunique())\n",
        "protest['Country'] = protest['Country'].str.title()\n",
        "print(protest['Country'].nunique())\n",
        "\n",
        "print(hum_freedom['Country/Territory'].nunique())\n",
        "hum_freedom['Country/Territory'] = hum_freedom['Country/Territory'].str.title()\n",
        "print(hum_freedom['Country/Territory'].nunique())"
      ],
      "metadata": {
        "colab": {
          "base_uri": "https://localhost:8080/"
        },
        "id": "HoPbVDna8VLs",
        "outputId": "14254a58-8b6b-41e7-c5d4-4a875d16f578"
      },
      "execution_count": 8,
      "outputs": [
        {
          "output_type": "stream",
          "name": "stdout",
          "text": [
            "126\n",
            "125\n",
            "218\n",
            "218\n"
          ]
        }
      ]
    },
    {
      "cell_type": "markdown",
      "source": [
        "Check for duplicate values creating unique keys for each table. We see that unique keys equal to number of rows in each table."
      ],
      "metadata": {
        "id": "xCN_-b53-SqD"
      }
    },
    {
      "cell_type": "code",
      "source": [
        "# Check for duplicate values\n",
        "print(protest.groupby(['Country', 'Protest Name', 'Start Date']).ngroups)\n",
        "\n",
        "print(hum_freedom.groupby(['Country/Territory', 'Year']).ngroups)"
      ],
      "metadata": {
        "colab": {
          "base_uri": "https://localhost:8080/"
        },
        "id": "EZKfLEFg-RUb",
        "outputId": "bcfa44f7-c62d-4786-96b0-127363ed2cc8"
      },
      "execution_count": 9,
      "outputs": [
        {
          "output_type": "stream",
          "name": "stdout",
          "text": [
            "329\n",
            "3549\n"
          ]
        }
      ]
    },
    {
      "cell_type": "markdown",
      "source": [
        "Check for typos and misprints among categories names in categorical values. Then make corrections."
      ],
      "metadata": {
        "id": "8pxtv1NO-905"
      }
    },
    {
      "cell_type": "code",
      "source": [
        "# Check for incorrect values in columns with category values\n",
        "print(protest['Freedom Rating (Status)'].unique())\n",
        "print(protest['Size category'].unique())"
      ],
      "metadata": {
        "colab": {
          "base_uri": "https://localhost:8080/"
        },
        "id": "LkXBh4jy-jI0",
        "outputId": "aec9169e-66e7-4b38-8930-0254bc388c8c"
      },
      "execution_count": 10,
      "outputs": [
        {
          "output_type": "stream",
          "name": "stdout",
          "text": [
            "['Free' 'Partly free' 'Not free' 'Partly freee']\n",
            "['Thousands' 'Tens of thousands' 'Hundreds of thousands' 'Over 1 million'\n",
            " 'Hundreds' 'Millions' 'Hundreds of of thousands' 'Unknown'\n",
            " 'Huundreds of thousands' 'Tens of millions' 'Thosuands']\n"
          ]
        }
      ]
    },
    {
      "cell_type": "code",
      "source": [
        "# Replace incorrect values in Freedom Rating (Status) column\n",
        "protest['Freedom Rating (Status)'] = protest['Freedom Rating (Status)'].replace('Partly freee',\n",
        "                                                                                'Partly free')\n",
        "print(protest['Freedom Rating (Status)'].unique())"
      ],
      "metadata": {
        "colab": {
          "base_uri": "https://localhost:8080/"
        },
        "id": "dEHGclWL_iCt",
        "outputId": "626f927f-53c3-4ce4-ede1-bbb8fd48c501"
      },
      "execution_count": 11,
      "outputs": [
        {
          "output_type": "stream",
          "name": "stdout",
          "text": [
            "['Free' 'Partly free' 'Not free']\n"
          ]
        }
      ]
    },
    {
      "cell_type": "code",
      "source": [
        "# Replace incorrect values in Size category column and changing category format\n",
        "protest['Size category'] = protest['Size category'].replace(['Thousands', 'Thosuands','Tens of thousands',\n",
        "                                                             'Hundreds of thousands','Hundreds of of thousands',\n",
        "        'Huundreds of thousands', 'Over 1 million', 'Millions', 'Tens of millions', 'Hundreds'],\n",
        "        ['K1-10','K1-10', 'K10-100', 'K100-KK1', 'K100-KK1', 'K100-KK1', 'KK1-10', 'KK1-10',\n",
        "                                                                    'KK10-100', '100-1000'])\n",
        "print(protest['Size category'].unique())"
      ],
      "metadata": {
        "colab": {
          "base_uri": "https://localhost:8080/"
        },
        "id": "OIU6uZCRAK3h",
        "outputId": "6c6d708f-80c4-4543-d890-d8d16055efa4"
      },
      "execution_count": 12,
      "outputs": [
        {
          "output_type": "stream",
          "name": "stdout",
          "text": [
            "['K1-10' 'K10-100' 'K100-KK1' 'KK1-10' '100-1000' 'Unknown' 'KK10-100']\n"
          ]
        }
      ]
    },
    {
      "cell_type": "markdown",
      "source": [
        "Check for null values. ('False' and 'X' means True)\n",
        "\n",
        "Substitute NULL values with '0' and 'X' values with 1."
      ],
      "metadata": {
        "id": "wMUmastZBW9x"
      }
    },
    {
      "cell_type": "code",
      "source": [
        "# Check for null values\n",
        "print(protest.isnull().sum())"
      ],
      "metadata": {
        "colab": {
          "base_uri": "https://localhost:8080/"
        },
        "id": "CdtpNeQdBtFQ",
        "outputId": "dcbf4fbe-6114-4a0b-8a4b-61081c982865"
      },
      "execution_count": 13,
      "outputs": [
        {
          "output_type": "stream",
          "name": "stdout",
          "text": [
            "Country                                       0\n",
            "Protest Name                                  0\n",
            "Start Date                                    0\n",
            "Freedom Rating (Status)                       0\n",
            "Peak Size                                     0\n",
            "Key Participants                              1\n",
            "Duration                                      0\n",
            "Active protests                             312\n",
            "Economic motivation?                        212\n",
            "Political motivation?                        43\n",
            "Corruption motivation?                      263\n",
            "Size category                                 0\n",
            "Protests with a significant outcome         230\n",
            "Large protests (Over 100,000 protesting)    279\n",
            "Violent government response                 239\n",
            "Long protests (more than 3 months)          249\n",
            "Coronavirus-related protests                281\n",
            "dtype: int64\n"
          ]
        }
      ]
    },
    {
      "cell_type": "code",
      "source": [
        "# In columns with boolean values replace 'NaN' values to 0 and 'X' values to 1\n",
        "protest = protest.fillna({'Active protests':0, 'Economic motivation?':0, 'Political motivation?':0,\n",
        "                'Corruption motivation?':0, 'Protests with a significant outcome':0,\n",
        "                'Large protests (Over 100,000 protesting)':0, 'Violent government response':0,\n",
        "                'Long protests (more than 3 months)':0, 'Coronavirus-related protests':0})\n",
        "protest = protest.replace({'X':1})\n",
        "protest['Key Participants'] = protest['Key Participants'].fillna('Unknown')\n",
        "print(protest.isna().sum())"
      ],
      "metadata": {
        "colab": {
          "base_uri": "https://localhost:8080/"
        },
        "id": "REy6zbREFjdn",
        "outputId": "4f4bc7fb-5c6b-4f89-8c71-2277374115de"
      },
      "execution_count": 14,
      "outputs": [
        {
          "output_type": "stream",
          "name": "stdout",
          "text": [
            "Country                                     0\n",
            "Protest Name                                0\n",
            "Start Date                                  0\n",
            "Freedom Rating (Status)                     0\n",
            "Peak Size                                   0\n",
            "Key Participants                            0\n",
            "Duration                                    0\n",
            "Active protests                             0\n",
            "Economic motivation?                        0\n",
            "Political motivation?                       0\n",
            "Corruption motivation?                      0\n",
            "Size category                               0\n",
            "Protests with a significant outcome         0\n",
            "Large protests (Over 100,000 protesting)    0\n",
            "Violent government response                 0\n",
            "Long protests (more than 3 months)          0\n",
            "Coronavirus-related protests                0\n",
            "dtype: int64\n"
          ]
        }
      ]
    },
    {
      "cell_type": "markdown",
      "source": [
        "We adjust data type in 'Start Date' column to 'datetime' and create two additional columns with month and year where protest started."
      ],
      "metadata": {
        "id": "zkQEAsDhLmrm"
      }
    },
    {
      "cell_type": "code",
      "source": [
        "# Change 'Start Date' to 'datetime'\n",
        "protest['Start Date'] = pd.to_datetime(protest['Start Date'], \n",
        "                                       format='%b-%y', exact=False)\n",
        "protest['Year'] = protest['Start Date'].dt.year\n",
        "protest['Month'] = protest['Start Date'].dt.month"
      ],
      "metadata": {
        "id": "DYF4gNdtLysT"
      },
      "execution_count": 15,
      "outputs": []
    },
    {
      "cell_type": "markdown",
      "source": [
        "Shorten column names to using the principles of effective naming."
      ],
      "metadata": {
        "id": "c8YskHyqMbQv"
      }
    },
    {
      "cell_type": "code",
      "source": [
        "# SHorten column names for convinience\n",
        "protest = protest.rename(columns={'Protest Name':'Prtst_name', 'Start Date':'Strt_date',\n",
        "                               'Freedom Rating (Status)':'Frdm_status', 'Peak Size': 'Peak_size',\n",
        "                               'Key Participants':'Participants', 'Active protests':'Active',\n",
        "                               'Economic motivation?':'Ecnm_motive', 'Political motivation?':\n",
        "                                'Pltc_motive', 'Corruption motivation?':'Corr_motive',\n",
        "                               'Size category':'Size_category', 'Protests with a significant outcome':\n",
        "                               'Sig_outcome', 'Large protests (Over 100,000 protesting)':'Large_prtst',\n",
        "                               'Violent government response':'Viol_gov_respns','Long protests (more than 3 months)':'Long_prtst',\n",
        "                                'Coronavirus-related protests':'Covid_prtst'})\n",
        "protest.info()"
      ],
      "metadata": {
        "colab": {
          "base_uri": "https://localhost:8080/"
        },
        "id": "zOjYD68oMkd4",
        "outputId": "3aedbd56-3565-424f-ad20-52d6847258ab"
      },
      "execution_count": 16,
      "outputs": [
        {
          "output_type": "stream",
          "name": "stdout",
          "text": [
            "<class 'pandas.core.frame.DataFrame'>\n",
            "RangeIndex: 329 entries, 0 to 328\n",
            "Data columns (total 19 columns):\n",
            " #   Column           Non-Null Count  Dtype         \n",
            "---  ------           --------------  -----         \n",
            " 0   Country          329 non-null    object        \n",
            " 1   Prtst_name       329 non-null    object        \n",
            " 2   Strt_date        329 non-null    datetime64[ns]\n",
            " 3   Frdm_status      329 non-null    object        \n",
            " 4   Peak_size        329 non-null    object        \n",
            " 5   Participants     329 non-null    object        \n",
            " 6   Duration         329 non-null    object        \n",
            " 7   Active           329 non-null    int64         \n",
            " 8   Ecnm_motive      329 non-null    int64         \n",
            " 9   Pltc_motive      329 non-null    int64         \n",
            " 10  Corr_motive      329 non-null    int64         \n",
            " 11  Size_category    329 non-null    object        \n",
            " 12  Sig_outcome      329 non-null    int64         \n",
            " 13  Large_prtst      329 non-null    int64         \n",
            " 14  Viol_gov_respns  329 non-null    int64         \n",
            " 15  Long_prtst       329 non-null    int64         \n",
            " 16  Covid_prtst      329 non-null    int64         \n",
            " 17  Year             329 non-null    int64         \n",
            " 18  Month            329 non-null    int64         \n",
            "dtypes: datetime64[ns](1), int64(11), object(7)\n",
            "memory usage: 49.0+ KB\n"
          ]
        }
      ]
    },
    {
      "cell_type": "markdown",
      "source": [
        "Add new column names with translation process duration text values into numeric values."
      ],
      "metadata": {
        "id": "AIK_zrXaNXlF"
      }
    },
    {
      "cell_type": "code",
      "source": [
        "# Adding a new column with approximate protest duration in days\n",
        "dur_val = protest['Duration'].value_counts()\n",
        "print(protest['Duration'].value_counts())\n",
        "protest['Duration_str'] = protest['Duration']\n",
        "replaced = []\n",
        "for i, v in dur_val.iteritems():\n",
        "  replaced.append(i)\n",
        "\n",
        "replacing = [1, 7, 30, 60, -1, 14, 120, 150, 90, 21, 14*30,\n",
        "             240, 365, 180, 3, 10, 365, 2, 365+180, 330,\n",
        "             365+120, 15*30, 300, 16*30, 365, 210, 365*2,\n",
        "             22, 8, 28, 365+60, 270, 42, 210, 15*30, 141,\n",
        "             210, 5, 365+60,365+240, 365+150, 365+270, \n",
        "             -1, 210, 13*30,270,365+90]\n",
        "protest['Duration'] = protest['Duration'].replace(replaced, replacing)"
      ],
      "metadata": {
        "colab": {
          "base_uri": "https://localhost:8080/"
        },
        "id": "qzi3X-OYHLyA",
        "outputId": "719d72eb-1ccd-4e3a-e10e-d94545fd1c19"
      },
      "execution_count": 17,
      "outputs": [
        {
          "output_type": "stream",
          "name": "stdout",
          "text": [
            "1 day                                                    57\n",
            "1 week                                                   50\n",
            "1 month                                                  44\n",
            "2 months                                                 32\n",
            "Active                                                   16\n",
            "2 weeks                                                  15\n",
            "4 months                                                 15\n",
            "5 months                                                 11\n",
            "3 months                                                 10\n",
            "3 weeks                                                   9\n",
            "14 months                                                 6\n",
            "8 months                                                  5\n",
            "1 year                                                    4\n",
            "6 months                                                  4\n",
            "3 days                                                    4\n",
            "10 days                                                   3\n",
            "1 year, intermittently                                    3\n",
            "2 days                                                    3\n",
            "1 year, 6 months                                          3\n",
            "11 months                                                 2\n",
            "1 year, 4 months (sporadic)                               2\n",
            "15 months                                                 2\n",
            "10 months                                                 2\n",
            "16 months, intermittently                                 2\n",
            "1 year (sporadic)                                         2\n",
            "7 months                                                  2\n",
            "2 years (sporadic)                                        1\n",
            "3 weeks in March 2020; 1 day in March 2022.               1\n",
            "1 day in August 2021; 1 week in December 2021             1\n",
            "4 weeks                                                   1\n",
            "1 year, 2 months                                          1\n",
            "9 months, intermittently                                  1\n",
            "6 weeks                                                   1\n",
            "7 months, intermittently                                  1\n",
            "15 months, intermittently                                 1\n",
            "3 weeks in July 2021; November 2021 to February 2022.     1\n",
            "7 months (sporadic)                                       1\n",
            "5 days                                                    1\n",
            "1 year (first round); 2 months (second wave)              1\n",
            "1 year, 8 months (sporadic)                               1\n",
            "1 year, 5 months                                          1\n",
            "1 year, 9 months                                          1\n",
            "6 months in 2020–2021; Active as of May 2022              1\n",
            "7 months , intermittently                                 1\n",
            "13 months, intermittently                                 1\n",
            "9 months                                                  1\n",
            "1 year, 3 months                                          1\n",
            "Name: Duration, dtype: int64\n"
          ]
        }
      ]
    },
    {
      "cell_type": "markdown",
      "source": [
        "Join the two datasets"
      ],
      "metadata": {
        "id": "6qde0UViKeq7"
      }
    },
    {
      "cell_type": "code",
      "source": [
        "protest_for_model = protest.merge(hum_freedom, left_on=['Country', 'Year'],\n",
        "                                  right_on=['Country/Territory', 'Year'],\n",
        "                                  how= 'left')\n",
        "del protest_for_model['Country/Territory']\n",
        "protest_for_model.info()\n",
        "protest_for_model= protest_for_model.dropna()\n",
        "protest_for_model.info()"
      ],
      "metadata": {
        "colab": {
          "base_uri": "https://localhost:8080/"
        },
        "id": "O2wRFGRsKb5H",
        "outputId": "ec2b430c-1ea5-486b-d396-697dc08348d0"
      },
      "execution_count": 18,
      "outputs": [
        {
          "output_type": "stream",
          "name": "stdout",
          "text": [
            "<class 'pandas.core.frame.DataFrame'>\n",
            "Int64Index: 329 entries, 0 to 328\n",
            "Data columns (total 23 columns):\n",
            " #   Column           Non-Null Count  Dtype         \n",
            "---  ------           --------------  -----         \n",
            " 0   Country          329 non-null    object        \n",
            " 1   Prtst_name       329 non-null    object        \n",
            " 2   Strt_date        329 non-null    datetime64[ns]\n",
            " 3   Frdm_status      329 non-null    object        \n",
            " 4   Peak_size        329 non-null    object        \n",
            " 5   Participants     329 non-null    object        \n",
            " 6   Duration         329 non-null    int64         \n",
            " 7   Active           329 non-null    int64         \n",
            " 8   Ecnm_motive      329 non-null    int64         \n",
            " 9   Pltc_motive      329 non-null    int64         \n",
            " 10  Corr_motive      329 non-null    int64         \n",
            " 11  Size_category    329 non-null    object        \n",
            " 12  Sig_outcome      329 non-null    int64         \n",
            " 13  Large_prtst      329 non-null    int64         \n",
            " 14  Viol_gov_respns  329 non-null    int64         \n",
            " 15  Long_prtst       329 non-null    int64         \n",
            " 16  Covid_prtst      329 non-null    int64         \n",
            " 17  Year             329 non-null    int64         \n",
            " 18  Month            329 non-null    int64         \n",
            " 19  Duration_str     329 non-null    object        \n",
            " 20  Pltc_rights_scr  321 non-null    float64       \n",
            " 21  Cvl_rights_scr   321 non-null    float64       \n",
            " 22  Total_scr        321 non-null    float64       \n",
            "dtypes: datetime64[ns](1), float64(3), int64(12), object(7)\n",
            "memory usage: 61.7+ KB\n",
            "<class 'pandas.core.frame.DataFrame'>\n",
            "Int64Index: 321 entries, 0 to 328\n",
            "Data columns (total 23 columns):\n",
            " #   Column           Non-Null Count  Dtype         \n",
            "---  ------           --------------  -----         \n",
            " 0   Country          321 non-null    object        \n",
            " 1   Prtst_name       321 non-null    object        \n",
            " 2   Strt_date        321 non-null    datetime64[ns]\n",
            " 3   Frdm_status      321 non-null    object        \n",
            " 4   Peak_size        321 non-null    object        \n",
            " 5   Participants     321 non-null    object        \n",
            " 6   Duration         321 non-null    int64         \n",
            " 7   Active           321 non-null    int64         \n",
            " 8   Ecnm_motive      321 non-null    int64         \n",
            " 9   Pltc_motive      321 non-null    int64         \n",
            " 10  Corr_motive      321 non-null    int64         \n",
            " 11  Size_category    321 non-null    object        \n",
            " 12  Sig_outcome      321 non-null    int64         \n",
            " 13  Large_prtst      321 non-null    int64         \n",
            " 14  Viol_gov_respns  321 non-null    int64         \n",
            " 15  Long_prtst       321 non-null    int64         \n",
            " 16  Covid_prtst      321 non-null    int64         \n",
            " 17  Year             321 non-null    int64         \n",
            " 18  Month            321 non-null    int64         \n",
            " 19  Duration_str     321 non-null    object        \n",
            " 20  Pltc_rights_scr  321 non-null    float64       \n",
            " 21  Cvl_rights_scr   321 non-null    float64       \n",
            " 22  Total_scr        321 non-null    float64       \n",
            "dtypes: datetime64[ns](1), float64(3), int64(12), object(7)\n",
            "memory usage: 60.2+ KB\n"
          ]
        }
      ]
    },
    {
      "cell_type": "markdown",
      "source": [
        "Analysis"
      ],
      "metadata": {
        "id": "3l94N-Y6LVgN"
      }
    },
    {
      "cell_type": "markdown",
      "source": [
        "**Countries with the most protest**\n",
        "\n",
        "Calculate the total number of protest that have occured during observational periods in each country.\n",
        "From the list of all of the countries return the top 10, by highest number of protest."
      ],
      "metadata": {
        "id": "55c2M4YSLXfy"
      }
    },
    {
      "cell_type": "code",
      "source": [
        "# Create dataset with number of protest grouped by country\n",
        "protest_per_country = protest.groupby(['Country', 'Frdm_status']).agg({'Prtst_name':'count'})\n",
        "protest_per_country = protest_per_country.reset_index()\n",
        "protest_per_country = protest_per_country.rename(columns={'Prtst_name': 'Total_protests'})\n",
        "protest_per_country = protest_per_country.sort_values('Total_protests', ascending=False)\n",
        "\n",
        "# Define top 10 protest countries\n",
        "top10_prtst_cntr = protest_per_country.head(10)\n",
        "\n",
        "# Plot\n",
        "sns.set_palette(['#062A77', '#512888', '#B11225'])\n",
        "g = sns.catplot(kind='bar', data=top10_prtst_cntr,\n",
        "                x='Country', y='Total_protests', \n",
        "                hue='Frdm_status')\n",
        "g.fig.suptitle('Top 10 Protest Countries from 2017 - 2022')\n",
        "g.set(xlabel='', ylabel='Number of protest per country')\n",
        "plt.xticks(rotation=90)\n",
        "plt.show()"
      ],
      "metadata": {
        "colab": {
          "base_uri": "https://localhost:8080/",
          "height": 572
        },
        "id": "ExNoyP5UMFNk",
        "outputId": "dd5bca2d-211f-452c-85e2-b884d34962c9"
      },
      "execution_count": 19,
      "outputs": [
        {
          "output_type": "display_data",
          "data": {
            "text/plain": [
              "<Figure size 621.625x500 with 1 Axes>"
            ],
            "image/png": "[encoded data removed]"
          },
          "metadata": {}
        }
      ]
    },
    {
      "cell_type": "markdown",
      "source": [
        "Finding show:\n",
        "Countries with all kind of Freedom Status(Free, Partly Free, Not Free).\n",
        "The most protestant country would be France where the duration during observation periods occured 11 protest.\n",
        "\n",
        "**Freedom vs. Protest Activity**\n",
        "\n",
        "*Avg. number of protest*\n",
        "\n",
        "We have not seen any sort of association from  the top 10 protest countries plot.\n",
        "\n",
        "Define if a countrys freedom status influences protest activity within the country."
      ],
      "metadata": {
        "id": "0m0chUg0Pk4U"
      }
    },
    {
      "cell_type": "code",
      "source": [
        "frdm_prtst = protest.groupby('Frdm_status').agg({'Prtst_name':'count'})\n",
        "free_countries = (protest[protest['Frdm_status'] == 'Free'])['Country'].nunique()\n",
        "p_free_countries = (protest[protest['Frdm_status'] == 'Partly free'])['Country'].nunique()\n",
        "n_free_countries = (protest[protest['Frdm_status'] == 'Not free'])['Country'].nunique()\n",
        "per_status = [free_countries, n_free_countries, p_free_countries]\n",
        "frdm_prtst['Avg_per_country'] = (frdm_prtst['Prtst_name'] / per_status).round(2)\n",
        "frdm_prtst = frdm_prtst.reset_index()\n",
        "\n",
        "# Dot Plot\n",
        "g = sns.catplot(kind='point', data= frdm_prtst,\n",
        "                x = 'Frdm_status', y = 'Avg_per_country',\n",
        "                order = ['Free', 'Partly free', 'Not free'],\n",
        "                join = False)\n",
        "plt.yticks([0, 0.5, 1, 1.5, 2, 2.5, 3])\n",
        "g.set(xlabel = '', ylabel ='Number per country')\n",
        "g.fig.suptitle('Average number of protest per country freedom type',\n",
        "               y = 1.03)\n",
        "plt.show()\n"
      ],
      "metadata": {
        "colab": {
          "base_uri": "https://localhost:8080/",
          "height": 517
        },
        "id": "hMbURkIMQpX8",
        "outputId": "0a063c61-7bc2-46ba-e7f7-b3aebd332150"
      },
      "execution_count": 20,
      "outputs": [
        {
          "output_type": "display_data",
          "data": {
            "text/plain": [
              "<Figure size 500x500 with 1 Axes>"
            ],
            "image/png": "[encoded data removed]"
          },
          "metadata": {}
        }
      ]
    },
    {
      "cell_type": "markdown",
      "source": [
        "We've found that protest occur slighty more in 'Not free' counties than 'Partly free' or 'free' countries."
      ],
      "metadata": {
        "id": "WKqPhu_6KMlU"
      }
    },
    {
      "cell_type": "markdown",
      "source": [
        "*Protest Duration*\n",
        "\n",
        "Build some Boxplot to check if there is any difference between durations in different country types. Active protest excluded."
      ],
      "metadata": {
        "id": "26JAlC6kEc4_"
      }
    },
    {
      "cell_type": "code",
      "source": [
        "# Box plot\n",
        "n = sns.catplot(x='Frdm_status', y='Duration', kind='box', data=protest[protest['Active'] == 0],\n",
        "                order = ['Free', 'Partly free', 'Not free'])\n",
        "n.set(xlabel='Protest duration, days')\n",
        "n.fig.suptitle(\"Protest duration distribution per country type\", y= 1.03)\n",
        "plt.show()"
      ],
      "metadata": {
        "colab": {
          "base_uri": "https://localhost:8080/",
          "height": 536
        },
        "id": "Ie7LeNItEsYN",
        "outputId": "8fa4d2cb-ecb5-44aa-9077-13ed295610e9"
      },
      "execution_count": 21,
      "outputs": [
        {
          "output_type": "display_data",
          "data": {
            "text/plain": [
              "<Figure size 500x500 with 1 Axes>"
            ],
            "image/png": "[encoded data removed]"
          },
          "metadata": {}
        }
      ]
    },
    {
      "cell_type": "markdown",
      "source": [
        "We've found that the median duration is very similar in countries with any freedom state, but the duration of protest had more variation in countries with BETTER freedom status."
      ],
      "metadata": {
        "id": "MY9yadjAFlEt"
      }
    },
    {
      "cell_type": "markdown",
      "source": [
        "*Protest Size*\n",
        "Unfortunately, we do not have the exact number of protestants. For evaluation of size variable build bars calculating protest within every group size for each country."
      ],
      "metadata": {
        "id": "9NO4tnQMF0FK"
      }
    },
    {
      "cell_type": "code",
      "source": [
        "# Box Plot\n",
        "pal = ['#e4eaff', '#C8C8FF', '#9B9DFB', '#6E74CD', '#414DA1', '#062A77']\n",
        "n = sns.catplot(kind = 'count', data=protest[protest['Active'] == 0],\n",
        "                x = 'Size_category', col='Frdm_status', \n",
        "                col_order=['Free', 'Partly free', 'Not free'],\n",
        "                palette=pal, order=['100-1000','K1-10', 'K10-100', \n",
        "                                   'K100-KK1', 'KK1-10', 'KK10-100'])\n",
        "n.set(xlabel='', ylabel='Number of protest')\n",
        "n.fig.suptitle('Protest size distribution per country type', y= 1.03)\n",
        "n.set_titles('For {col_name} countries')\n",
        "plt.show()"
      ],
      "metadata": {
        "colab": {
          "base_uri": "https://localhost:8080/",
          "height": 228
        },
        "id": "49sBL5wtGKNM",
        "outputId": "61412e00-2685-4200-9aee-4daea6c65631"
      },
      "execution_count": 22,
      "outputs": [
        {
          "output_type": "display_data",
          "data": {
            "text/plain": [
              "<Figure size 1500x500 with 3 Axes>"
            ],
            "image/png": "[encoded data removed]"
          },
          "metadata": {}
        }
      ]
    },
    {
      "cell_type": "markdown",
      "source": [
        "Protest group size are similarly distributed in all country types.\n",
        "\n",
        "There is a right-skewed distribution with a peak at K1-10 group.\n",
        "\n",
        "Most of the protest attract from 1000 to 10,000 protestants."
      ],
      "metadata": {
        "id": "1h0aV9a_HcnF"
      }
    },
    {
      "cell_type": "markdown",
      "source": [
        "*Main protest motives*\n",
        "\n",
        "We found some difference in protest attributes between countries with different level of freedom. Now we will analyze what causes protest activity.\n",
        "\n",
        "Consider 3 main triggers:\n",
        "\n",
        "\n",
        "*   Econimics\n",
        "*   Politics\n",
        "*   Corruption\n",
        "\n",
        "Combining these triggers all protest will be split into 7 groups:\n",
        "\n",
        "\n",
        "\n",
        "1.   **E -** pure economics motivation \n",
        "2.   **P -** pure politics motivation\n",
        "3.   **C -** pure corruption motivation\n",
        "4.   **EP -** both economics/politics motivation\n",
        "5.   **EC -** both economics/corruption motivation \n",
        "6.   **PC -** both politics/ corruption motivation\n",
        "7.   **EPC -** moxed economics/politics/corruption motivation\n",
        "\n",
        "We will study distribution protest among groups and between countries\n",
        "\n",
        "\n",
        "\n",
        "\n",
        "\n",
        "\n",
        "\n",
        "\n"
      ],
      "metadata": {
        "id": "YT4UXEJmHy40"
      }
    },
    {
      "cell_type": "code",
      "source": [
        "# Define main protest motive\n",
        "condition = [(protest['Ecnm_motive']==1)&(protest['Pltc_motive']==0)&\n",
        "             (protest['Corr_motive']==0),\n",
        "    (protest['Ecnm_motive']==0)&(protest['Pltc_motive']==1)&\n",
        "        (protest['Corr_motive']==0),\n",
        "    (protest['Ecnm_motive']==0)&(protest['Pltc_motive']==0)&\n",
        "        (protest['Corr_motive']==1),\n",
        "    (protest['Ecnm_motive'] == 1) & (protest['Pltc_motive'] == 1)&\n",
        "        (protest['Corr_motive'] == 0),\n",
        "    (protest['Ecnm_motive'] == 1) & (protest['Pltc_motive'] == 0)&\n",
        "        (protest['Corr_motive'] == 1),\n",
        "    (protest['Ecnm_motive'] == 0) & (protest['Pltc_motive'] == 1)&\n",
        "        (protest['Corr_motive'] == 1),\n",
        "    (protest['Ecnm_motive'] == 1) & (protest['Pltc_motive'] == 1)&\n",
        "    (protest['Corr_motive'] == 1)]\n",
        "\n",
        "group = ['E','P','C','EP','EC','PC','EPC']\n",
        "protest['Motivation_group'] = np.select(condition, group, default='Other')\n",
        "print(protest['Motivation_group'].value_counts())\n",
        "\n",
        "# Bar Plot\n",
        "g = sns.catplot(kind='count', data=protest, x='Motivation_group', col='Frdm_status',\n",
        "                order=['E','P','C','EP','EC','PC','EPC'], palette={'E':'#B11225', 'P':'#062A77', 'C' : 'yellow', 'EP':'#512888', \n",
        "                                                                        'EC':'darkorange', 'PC':'green', 'EPC':'saddlebrown'})\n",
        "g.fig.suptitle('Distribution of protest by trigger group between country categories',\n",
        "               y=1.03)\n",
        "g.set(xlabel='', ylabel='Number of protest')\n",
        "g.set_titles('For {col_name} countries')\n",
        "plt.show()"
      ],
      "metadata": {
        "colab": {
          "base_uri": "https://localhost:8080/",
          "height": 384
        },
        "id": "PyV5t50tKKh2",
        "outputId": "e5a6d82b-f5ff-47c7-bd5d-e48cf309c53d"
      },
      "execution_count": 23,
      "outputs": [
        {
          "output_type": "stream",
          "name": "stdout",
          "text": [
            "P        173\n",
            "EP        58\n",
            "PC        33\n",
            "E         28\n",
            "EPC       22\n",
            "EC         9\n",
            "Other      4\n",
            "C          2\n",
            "Name: Motivation_group, dtype: int64\n"
          ]
        },
        {
          "output_type": "display_data",
          "data": {
            "text/plain": [
              "<Figure size 1500x500 with 3 Axes>"
            ],
            "image/png": "[encoded data removed]"
          },
          "metadata": {}
        }
      ]
    },
    {
      "cell_type": "markdown",
      "source": [
        "We've found that **Politics is the most effective trigger**. **Top 3** most populated trigger groups are **pure Politics, and Politics variation with other triggers**. **Distribution** in countries with **different levels of freedom** was similar and **did not show significant distinctions** and in general, repeated tendencies of the complex distribution."
      ],
      "metadata": {
        "id": "G-9ymErPMMFs"
      }
    },
    {
      "cell_type": "markdown",
      "source": [
        "***Government Response***\n",
        "\n",
        "*Top Counties responded violently*\n",
        "\n",
        "We will find the top countries that had violent responses with a higher than average rate. By Countru and Freedom Status: calculate share of violent responses, filter the results for values higher than average rate violent response and order by absolute value of violent responded protest and share."
      ],
      "metadata": {
        "id": "i4_hmqR1Mz6K"
      }
    },
    {
      "cell_type": "code",
      "source": [
        "# Defines if free countries have less tendancy to use violence against protestants\n",
        "cntry_viol = protest.groupby(['Country', 'Frdm_status']).agg({'Viol_gov_respns':'sum'})\n",
        "tend_to_viol = protest_per_country.merge(cntry_viol, on=['Country','Frdm_status'])\n",
        "tend_to_viol['Violence_share'] = ((tend_to_viol['Viol_gov_respns'] / tend_to_viol['Total_protests'])*100).round()\n",
        "mean_viol_resp = (protest['Viol_gov_respns'].mean()*100).round(2)\n",
        "high_viol = tend_to_viol[tend_to_viol['Violence_share'] > mean_viol_resp]\n",
        "high_viol = high_viol.sort_values(['Viol_gov_respns','Violence_share'], ascending=False)\n",
        "print(high_viol.head(20))\n"
      ],
      "metadata": {
        "colab": {
          "base_uri": "https://localhost:8080/"
        },
        "id": "JOy-2aY8NbwL",
        "outputId": "bc650c0f-77ad-4cb7-d9bf-54d0b8eacc8b"
      },
      "execution_count": 24,
      "outputs": [
        {
          "output_type": "stream",
          "name": "stdout",
          "text": [
            "         Country  Frdm_status  Total_protests  Viol_gov_respns  Violence_share\n",
            "22      Eswatini     Not free               4                4           100.0\n",
            "24        Uganda     Not free               4                3            75.0\n",
            "30       Belarus     Not free               4                3            75.0\n",
            "10         Spain         Free               5                3            60.0\n",
            "5         Russia     Not free               7                3            43.0\n",
            "3       Pakistan  Partly free               8                3            38.0\n",
            "56         Niger  Partly free               2                2           100.0\n",
            "57       Nigeria  Partly free               2                2           100.0\n",
            "69         Egypt     Not free               2                2           100.0\n",
            "70       Croatia         Free               2                2           100.0\n",
            "31      Zimbabwe     Not free               3                2            67.0\n",
            "40          Chad     Not free               3                2            67.0\n",
            "41  South Africa         Free               3                2            67.0\n",
            "42    Kazakhstan     Not free               3                2            67.0\n",
            "19        Israel         Free               4                2            50.0\n",
            "29        Brazil         Free               4                2            50.0\n",
            "9       Colombia  Partly free               5                2            40.0\n",
            "83    Gaza Strip     Not free               1                1           100.0\n",
            "84        Gambia  Partly free               1                1           100.0\n",
            "93  Turkmenistan     Not free               1                1           100.0\n"
          ]
        }
      ]
    },
    {
      "cell_type": "markdown",
      "source": [
        "Top-3 countries in the list and **five countries** in total from the list are considered **Not free, three countries** are **Partly free and two are Free countries.**"
      ],
      "metadata": {
        "id": "9u3mKitpaQHL"
      }
    },
    {
      "cell_type": "markdown",
      "source": [
        "*Violence by freedom status*\n",
        "\n",
        "There's some difference in the average number of protest between countries with different levels of freedom.\n",
        "\n",
        "How do countries from different groups respond to the protest?\n",
        "Calculate share of protest that provoked violent government responses for countries in each freedom group."
      ],
      "metadata": {
        "id": "CWVuzaiqbeNZ"
      }
    },
    {
      "cell_type": "code",
      "source": [
        "# Calculate share of governemtn violent response to protest pending on freedom status\n",
        "frdm_vlnc_tend = protest[protest['Viol_gov_respns'] == 1]\n",
        "frdm_vlnc_tend = frdm_vlnc_tend.groupby('Frdm_status').agg({'Viol_gov_respns':'count'}).reset_index()\n",
        "frdm_vlnc_tend['Share_of_total'] = ((frdm_vlnc_tend['Viol_gov_respns']/ (frdm_prtst['Prtst_name'])*100).round(2))\n",
        "\n",
        "# Plot\n",
        "sns.set_palette(['#062A77', '#512888', '#B11225'])\n",
        "g=sns.catplot(x='Frdm_status', y='Share_of_total', kind='bar', data=frdm_vlnc_tend, order=[\n",
        "    'Free', 'Partly free', 'Not free'])\n",
        "g.set(xlabel='', ylabel='Violent response share')\n",
        "g.fig.suptitle('Governemtn violent response based on country freedom status', y= 1.03)\n",
        "plt.show()"
      ],
      "metadata": {
        "colab": {
          "base_uri": "https://localhost:8080/",
          "height": 517
        },
        "id": "Hrdfxxlgb_w3",
        "outputId": "d417b5d2-09af-4259-be19-f2f33268231c"
      },
      "execution_count": 25,
      "outputs": [
        {
          "output_type": "display_data",
          "data": {
            "text/plain": [
              "<Figure size 500x500 with 1 Axes>"
            ],
            "image/png": "[encoded data removed]"
          },
          "metadata": {}
        }
      ]
    },
    {
      "cell_type": "markdown",
      "source": [
        "The results show that Not free countries more frequently responded violently top protest other than countries with higher freedom rating.\n",
        "\n",
        "Perform Chi2 test with 5% significance level to confirm if the share of violence is dependant on the countries freedom status."
      ],
      "metadata": {
        "id": "Ny6KpErsgCAJ"
      }
    },
    {
      "cell_type": "code",
      "source": [
        "# Chi2 test\n",
        "expected, observed, stats = pg.chi2_independence(data=protest, \n",
        "                                                 x='Frdm_status', y='Viol_gov_respns',\n",
        "                                                 correction=False)\n",
        "print(stats)"
      ],
      "metadata": {
        "colab": {
          "base_uri": "https://localhost:8080/"
        },
        "id": "Ykywu6SPgx2L",
        "outputId": "817bef21-90ad-4d6d-c334-d6f565679942"
      },
      "execution_count": 26,
      "outputs": [
        {
          "output_type": "stream",
          "name": "stdout",
          "text": [
            "                 test    lambda      chi2  dof      pval    cramer     power\n",
            "0             pearson  1.000000  4.789883  2.0  0.091178  0.120660  0.485723\n",
            "1        cressie-read  0.666667  4.748681  2.0  0.093076  0.120140  0.482165\n",
            "2      log-likelihood  0.000000  4.677376  2.0  0.096454  0.119235  0.475976\n",
            "3       freeman-tukey -0.500000  4.633132  2.0  0.098612  0.118670  0.472118\n",
            "4  mod-log-likelihood -1.000000  4.596403  2.0  0.100439  0.118198  0.468904\n",
            "5              neyman -2.000000  4.544249  2.0  0.103093  0.117526  0.464323\n"
          ]
        }
      ]
    },
    {
      "cell_type": "markdown",
      "source": [
        "p-value is 0.091178 that is higher that 0.05. So **we can not state with 5% significance that violent governemt response is dependant on freedom status.**"
      ],
      "metadata": {
        "id": "XUITsevVh86c"
      }
    },
    {
      "cell_type": "markdown",
      "source": [
        "*Violence and protest*\n",
        "Probably constant and sustainable protest tempt a government to use violence to top the protest.\n",
        "\n",
        "Check if there is a significant difference in duration between the protest that faced governement violence and those that did not"
      ],
      "metadata": {
        "id": "tg4msgjCiZEI"
      }
    },
    {
      "cell_type": "code",
      "source": [
        "# Box plot that pictured distribution of protest duration between two groups\n",
        "g = sns.catplot(kind='box', data=protest, x='Viol_gov_respns', y='Duration')\n",
        "g.set(xlabel='')\n",
        "plt.xticks([0,1],['No Violence', 'Violence'])\n",
        "plt.show()"
      ],
      "metadata": {
        "colab": {
          "base_uri": "https://localhost:8080/",
          "height": 487
        },
        "id": "W_i0Exb5i8x9",
        "outputId": "d5800570-426c-4419-9913-6ebe4b9463b8"
      },
      "execution_count": 27,
      "outputs": [
        {
          "output_type": "display_data",
          "data": {
            "text/plain": [
              "<Figure size 500x500 with 1 Axes>"
            ],
            "image/png": "[encoded data removed]"
          },
          "metadata": {}
        }
      ]
    },
    {
      "cell_type": "markdown",
      "source": [
        "The boxplot findings show that the protest that faced violent response from government have higher variation in duration."
      ],
      "metadata": {
        "id": "ETDz1ERTjtnK"
      }
    },
    {
      "cell_type": "markdown",
      "source": [
        "*Violent response correlation*\n",
        "\n",
        "Look more precisely at the violent government response and other variables that it can be related to:\n",
        "\n",
        "\n",
        "\n",
        "*   **Total_scr** - total scores vale recieved by country in Freedom rating\n",
        "*   **Duration** - protest duration in days\n",
        "*   **Size_score** - customized column that assign score to a protest according to value from Size_category column. Values are from 1 for the smallest category '100-1000' to 6 for the largest category 'KK10-100'\n",
        "*   **Lag_prtst** - the column that assigns value of 1 for all protest with more that 100,000 protestants\n",
        "*   **Long_prtst** - the column that asssigns value of 1 for all protest that lasted longer that 3 months\n",
        "\n",
        "Mentioned columns will be selected for creating a correlation table:\n",
        "\n",
        "\n"
      ],
      "metadata": {
        "id": "0BKNdu4yj7rs"
      }
    },
    {
      "cell_type": "code",
      "source": [
        "# Creating Size_scr column\n",
        "size_p = []\n",
        "for s in protest_for_model['Size_category']:\n",
        "  if s == '100-1000': size_p.append(1)\n",
        "  elif 'K1-10': size_p.append(2)\n",
        "  elif 'K10-100': size_p.append(3)\n",
        "  elif 'K100-KK1':size_p.append(4)\n",
        "  elif 'KK1-10': size_p.append(5)\n",
        "  elif 'KK10-100': size_p.append(6)\n",
        "  else: size_p.append(0)\n",
        "protest_for_model['Size_scr'] = size_p\n",
        "viol_corr = protest_for_model[['Viol_gov_respns', 'Duration', 'Size_category',\n",
        "                               'Size_scr', 'Long_prtst', 'Large_prtst']].corr()\n",
        "print(viol_corr)\n",
        "g = sns.heatmap(viol_corr)\n",
        "plt.show()                               \n"
      ],
      "metadata": {
        "colab": {
          "base_uri": "https://localhost:8080/",
          "height": 636
        },
        "id": "jYFyoGiSlbqp",
        "outputId": "8e823ed0-341b-464e-c3f8-09ae3cae15b1"
      },
      "execution_count": 28,
      "outputs": [
        {
          "output_type": "stream",
          "name": "stdout",
          "text": [
            "                 Viol_gov_respns  Duration  Size_scr  Long_prtst  Large_prtst\n",
            "Viol_gov_respns         1.000000  0.003472 -0.028862    0.153853     0.098648\n",
            "Duration                0.003472  1.000000  0.095361    0.176278     0.114571\n",
            "Size_scr               -0.028862  0.095361  1.000000    0.114952     0.126005\n",
            "Long_prtst              0.153853  0.176278  0.114952    1.000000     0.385617\n",
            "Large_prtst             0.098648  0.114571  0.126005    0.385617     1.000000\n"
          ]
        },
        {
          "output_type": "display_data",
          "data": {
            "text/plain": [
              "<Figure size 640x480 with 2 Axes>"
            ],
            "image/png": "[encoded data removed]"
          },
          "metadata": {}
        }
      ]
    },
    {
      "cell_type": "markdown",
      "source": [
        "We found 0.15 positive correlation with Long_prtst and 0.09 with Large_prtst variablr, however no significant relation with Duration ans Size_scr. We can conclude that **government have a little bit higher tendency towards a violent response to the protest that last more than 3 months and involve more than 100,000 protestants.**"
      ],
      "metadata": {
        "id": "a1Yo46Xlo1Gf"
      }
    },
    {
      "cell_type": "markdown",
      "source": [
        "**Protests with significant outcome**\n",
        "\n",
        "After studying the protest activity in general and government responses to this, we will look closer to successful protests. Split the data by Sig_outcome variable. Look at mean values."
      ],
      "metadata": {
        "id": "DhSKruRKpziF"
      }
    },
    {
      "cell_type": "code",
      "source": [
        "sig = protest_for_model[protest_for_model['Sig_outcome'] == 1]\n",
        "print(sig[['Duration', 'Large_prtst', 'Viol_gov_respns', 'Long_prtst']].mean())\n",
        "n_sig = protest_for_model[protest_for_model['Sig_outcome'] == 0]\n",
        "print(n_sig[['Duration', 'Large_prtst', 'Viol_gov_respns', 'Long_prtst']].mean())"
      ],
      "metadata": {
        "colab": {
          "base_uri": "https://localhost:8080/"
        },
        "id": "rU3iG85sqLg7",
        "outputId": "98c128d9-71b7-4e5d-960e-57b6547ab587"
      },
      "execution_count": 29,
      "outputs": [
        {
          "output_type": "stream",
          "name": "stdout",
          "text": [
            "Duration           85.104167\n",
            "Large_prtst         0.208333\n",
            "Viol_gov_respns     0.302083\n",
            "Long_prtst          0.312500\n",
            "dtype: float64\n",
            "Duration           88.120000\n",
            "Large_prtst         0.128889\n",
            "Viol_gov_respns     0.248889\n",
            "Long_prtst          0.213333\n",
            "dtype: float64\n"
          ]
        }
      ]
    },
    {
      "cell_type": "markdown",
      "source": [
        "From the results we've found that **among the protests and the protests that failed there were differences in shares of large protest, long protest and government violent response.**\n",
        "\n",
        "Check if these differences are statistically significant with hypothesis testing.\n",
        "\n",
        "*Large protest share test*\n",
        "\n",
        "HO: Proportion of large protest among these protest that achieved significant outcomes is the same as among protest that have not.\n",
        "p1 - p0 = 0 H1: p1 - p0 > 0 alpha 0.05"
      ],
      "metadata": {
        "id": "PWKmgZsjrQLF"
      }
    },
    {
      "cell_type": "code",
      "source": [
        "print(n_sig['Large_prtst'].value_counts())\n",
        "print(sig['Large_prtst'].value_counts())\n",
        "success_counts = np.array([20,29])\n",
        "n = np.array([96, 29+196])\n",
        "stat, p_value = proportions_ztest(count=success_counts, nobs=n, alternative='larger')\n",
        "print(p_value)"
      ],
      "metadata": {
        "colab": {
          "base_uri": "https://localhost:8080/"
        },
        "id": "61AxV-_ksONV",
        "outputId": "79a019b6-3aee-41c4-9fff-033604016559"
      },
      "execution_count": 30,
      "outputs": [
        {
          "output_type": "stream",
          "name": "stdout",
          "text": [
            "0    196\n",
            "1     29\n",
            "Name: Large_prtst, dtype: int64\n",
            "0    76\n",
            "1    20\n",
            "Name: Large_prtst, dtype: int64\n",
            "0.034992376610781036\n"
          ]
        }
      ]
    },
    {
      "cell_type": "markdown",
      "source": [
        "The p-value is smaller than 0.05. **We can state with 95% confidence that the share of large protest is greater among the protests with significant results.**"
      ],
      "metadata": {
        "id": "bi01DNgHtKeK"
      }
    },
    {
      "cell_type": "markdown",
      "source": [
        "*Long protest share test*\n",
        "\n",
        "H0: Proportion of long protest among these protest that achieved significant outcomes is the same as among protest that have not. p1 - p0 = 0\n",
        "H1: p1 - p0 > alpha 0.05"
      ],
      "metadata": {
        "id": "iZBtX6pMteUX"
      }
    },
    {
      "cell_type": "code",
      "source": [
        "print(n_sig['Long_prtst'].value_counts())\n",
        "print(sig['Long_prtst'].value_counts())\n",
        "success_counts = np.array([30, 48])\n",
        "n = np.array([96, 48+177])\n",
        "stat, p_value = proportions_ztest(count=success_counts, nobs=n, \n",
        "                                  alternative='larger')\n",
        "print(p_value)\n"
      ],
      "metadata": {
        "colab": {
          "base_uri": "https://localhost:8080/"
        },
        "id": "uevNwlw5tz0k",
        "outputId": "45957008-23f8-42fa-8989-0c117b7472b1"
      },
      "execution_count": 31,
      "outputs": [
        {
          "output_type": "stream",
          "name": "stdout",
          "text": [
            "0    177\n",
            "1     48\n",
            "Name: Long_prtst, dtype: int64\n",
            "0    66\n",
            "1    30\n",
            "Name: Long_prtst, dtype: int64\n",
            "0.028934918190342846\n"
          ]
        }
      ]
    },
    {
      "cell_type": "markdown",
      "source": [
        "The p-value is smaller than 0.05. **We can state with 95% confidence that the share of long protest is greater among the protests with significant results.**"
      ],
      "metadata": {
        "id": "Ayr8CO2Muq6u"
      }
    },
    {
      "cell_type": "markdown",
      "source": [
        "*Violent response share test*\n",
        "\n",
        "H0: Proportion of violent response protest among these protest that achieved significant outcomes is the same as among protest that have not. p1 - p0 = 0\n",
        "H1: p1 - p0 > alpha 0.05"
      ],
      "metadata": {
        "id": "6kzQwGVsu0Es"
      }
    },
    {
      "cell_type": "code",
      "source": [
        "print(n_sig['Viol_gov_respns'].value_counts())\n",
        "print(sig['Viol_gov_respns'].value_counts())\n",
        "success_counts = np.array([29,56])\n",
        "n = np.array([96,48+177])\n",
        "stat, p_value = proportions_ztest(count=success_counts, nobs=n, alternative='larger')\n",
        "print(p_value) "
      ],
      "metadata": {
        "colab": {
          "base_uri": "https://localhost:8080/"
        },
        "id": "QVpGmnuovMCu",
        "outputId": "9b012e36-09f9-4e68-e902-fbb9c8a11706"
      },
      "execution_count": 32,
      "outputs": [
        {
          "output_type": "stream",
          "name": "stdout",
          "text": [
            "0    169\n",
            "1     56\n",
            "Name: Viol_gov_respns, dtype: int64\n",
            "0    67\n",
            "1    29\n",
            "Name: Viol_gov_respns, dtype: int64\n",
            "0.1613405325363244\n"
          ]
        }
      ]
    },
    {
      "cell_type": "markdown",
      "source": [
        "The p-value is significantly higher than 0.05. **We can't state with 95% and not even with 90% confidence that the share of government violent response differs between the protests with  and without significant results.**"
      ],
      "metadata": {
        "id": "9xiYUAJbv3GF"
      }
    },
    {
      "cell_type": "markdown",
      "source": [
        "*Significant outcome in countries from different freedom categories*\n",
        "\n",
        "Now we will analyze if protest achieve more results in countries with more freedom. Calculate a share of succeeded protest for countries within each freedom category."
      ],
      "metadata": {
        "id": "SvjJaT8DwTyJ"
      }
    },
    {
      "cell_type": "code",
      "source": [
        "sig_prot = protest[protest['Sig_outcome'] == 1]\n",
        "frdm_sig = sig_prot.groupby('Frdm_status').agg({'Sig_outcome':'count'}).reset_index()\n",
        "\n",
        "frdm_sig['Sig_share'] = (frdm_sig['Sig_outcome']*100 /frdm_prtst['Prtst_name']).round(2)\n",
        "frdm_sig['Insig_share'] = (100 - frdm_sig['Sig_share']).round(2)\n",
        "\n",
        "# Plot\n",
        "sns.set_palette(['#062A77', '#512888', '#B11225'])\n",
        "g = sns.catplot(x='Frdm_status', y='Sig_share', kind='bar', data= frdm_sig,\n",
        "                order=['Free', 'Partly Free', 'Not free'])\n",
        "g.set(xlabel='', ylabel='Share of protests with significant outcome')\n",
        "g.fig.suptitle('Protest success on country freedom status', y= 1.03)\n",
        "plt.show()"
      ],
      "metadata": {
        "colab": {
          "base_uri": "https://localhost:8080/",
          "height": 517
        },
        "id": "mJQblySywrB5",
        "outputId": "f2c24e8b-ed94-4a13-c886-a42a4d7ba481"
      },
      "execution_count": 33,
      "outputs": [
        {
          "output_type": "display_data",
          "data": {
            "text/plain": [
              "<Figure size 500x500 with 1 Axes>"
            ],
            "image/png": "[encoded data removed]"
          },
          "metadata": {}
        }
      ]
    },
    {
      "cell_type": "markdown",
      "source": [
        "We found that **share of succeeded protest was higher in countries with less freedom.**\n",
        "\n",
        "This finding seems counter-intuitive. \n",
        "Find if the share of succeeded protests is dependant on freedom status with a **Chi2 test with 5% significance**. "
      ],
      "metadata": {
        "id": "-AnPuEqAEXBk"
      }
    },
    {
      "cell_type": "code",
      "source": [
        "expected, observed,stats = pg.chi2_independence(data=protest, x='Frdm_status',\n",
        "                                                y='Sig_outcome', correction=False)\n",
        "print(stats)"
      ],
      "metadata": {
        "colab": {
          "base_uri": "https://localhost:8080/"
        },
        "id": "kdslFa4dFQqd",
        "outputId": "3a6fffe2-6f42-469b-8da1-9441363d082c"
      },
      "execution_count": 34,
      "outputs": [
        {
          "output_type": "stream",
          "name": "stdout",
          "text": [
            "                 test    lambda      chi2  dof      pval    cramer     power\n",
            "0             pearson  1.000000  0.230585  2.0  0.891106  0.026474  0.067746\n",
            "1        cressie-read  0.666667  0.230868  2.0  0.890979  0.026490  0.067768\n",
            "2      log-likelihood  0.000000  0.231459  2.0  0.890716  0.026524  0.067815\n",
            "3       freeman-tukey -0.500000  0.231924  2.0  0.890509  0.026551  0.067852\n",
            "4  mod-log-likelihood -1.000000  0.232408  2.0  0.890293  0.026578  0.067890\n",
            "5              neyman -2.000000  0.233433  2.0  0.889837  0.026637  0.067971\n"
          ]
        }
      ]
    },
    {
      "cell_type": "markdown",
      "source": [
        "p_value is much higher than 0.05 **so we cant state with 95% confidence that the share of succeeded protest differs between coutries with different freedom status.**"
      ],
      "metadata": {
        "id": "0O4hHPuCFtyl"
      }
    },
    {
      "cell_type": "markdown",
      "source": [
        "*If large or long protest achieve significant results more frequently?*\n",
        "\n",
        "Taking into account that the protest with significant outcome have higher share of large and long protest. We will preceed our analysis trying to find more evidence. Check if in general large, or long, or both if the same time protest in general have achieved significant results more frequently. Split all the protest into groups:\n",
        "\n",
        "\n",
        "\n",
        "*   **Long protest**\n",
        "*   **Large protest**\n",
        "*   **Long and large protest**\n",
        "* **Other protest**\n",
        "\n",
        "Calculate number of protest within each group, then number of succeeded protest and finally a success rate achieved within each group."
      ],
      "metadata": {
        "id": "pAapmYk3GIUw"
      }
    },
    {
      "cell_type": "code",
      "source": [
        "#Define if the duration or strength influence the result\n",
        "long_protests = (protest[(protest['Long_prtst'] == 1) & (protest['Large_prtst'] == 0)])\n",
        "large_protests = (protest[(protest['Large_prtst'] == 1) & (protest['Long_prtst'] == 0)])\n",
        "long_large_protests = (protest[(protest['Large_prtst'] == 1) & (protest['Long_prtst'] == 1)])\n",
        "other_protests = (protest[(protest['Large_prtst'] == 0) & (protest['Long_prtst'] == 0)])\n",
        "\n",
        "#Calculate a number of every protest type\n",
        "n_long_protests = long_protests['Prtst_name'].count()\n",
        "n_large_protests = large_protests['Prtst_name'].count()\n",
        "n_long_large_protests = long_large_protests['Prtst_name'].count()\n",
        "n_other_protests = other_protests['Prtst_name'].count()\n",
        "\n",
        "#Calculate a number of protests that achieved significant result for every type\n",
        "long_protests_sig = long_protests.groupby('Sig_outcome').agg({\n",
        "    'Prtst_name' : 'count'})\n",
        "long_protests_sig = long_protests_sig.reset_index()\n",
        "long_protests_sig = long_protests_sig.rename(columns={'Prtst_name':'N_protests'})\n",
        "long_protests_sig['Share_in_total'] = (long_protests_sig['N_protests']*100 / n_long_protests\n",
        "                                       ).round(2)\n",
        "large_protests_sig = large_protests.groupby('Sig_outcome').agg({\n",
        "    'Prtst_name' : 'count'})\n",
        "large_protests_sig = large_protests_sig.reset_index()\n",
        "large_protests_sig = large_protests_sig.rename(columns={'Prtst_name':'N_protests'})\n",
        "large_protests_sig['Share_in_total'] = (large_protests_sig['N_protests']*100 / n_large_protests\n",
        "                                       ).round(2)\n",
        "long_large_protests_sig = long_large_protests.groupby('Sig_outcome').agg(\n",
        "    {'Prtst_name' : 'count'})\n",
        "long_large_protests_sig = long_large_protests_sig.reset_index()\n",
        "long_large_protests_sig = long_large_protests_sig.rename(columns={'Prtst_name':'N_protests'})\n",
        "long_large_protests_sig['Share_in_total'] = (long_large_protests_sig['N_protests']*100 /\n",
        "                                             n_long_large_protests).round(2)\n",
        "other_protests_sig = other_protests.groupby('Sig_outcome').agg({\n",
        "    'Prtst_name' : 'count'})\n",
        "other_protests_sig = other_protests_sig.reset_index()\n",
        "other_protests_sig = other_protests_sig.rename(columns={'Prtst_name':'N_protests'})\n",
        "other_protests_sig['Share_in_total'] = (other_protests_sig['N_protests']*100 /\n",
        "                                             n_other_protests).round(2)\n",
        "protests_sig = pd.concat([long_protests_sig, large_protests_sig, long_large_protests_sig, other_protests_sig],\n",
        "          keys=['Long_prtst', 'Large_prtst', 'Long_large_prtst', 'Other_prtst'])\n",
        "print(protests_sig)\n",
        "\n",
        "# Shorten the resulted table to be used to plot the findings\n",
        "protests_sig_shrt = protests_sig.reset_index()\n",
        "protests_sig_shrt = protests_sig_shrt[protests_sig_shrt['Sig_outcome'] == 1]\n",
        "del protests_sig_shrt['Sig_outcome']\n",
        "del protests_sig_shrt['level_1']\n",
        "\n",
        "#Plot\n",
        "sns.set_palette(['#062A77', '#512888','#891446', '#B11225'])\n",
        "g = sns.catplot(data=protests_sig_shrt, kind='bar', x='level_0', y='Share_in_total',\n",
        "            order=['Other_prtst', 'Large_prtst', 'Long_prtst', 'Long_large_prtst'])\n",
        "g.set(xlabel='', ylabel='Share of protests with significant outcome')\n",
        "g.fig.suptitle('Share of success among long, large and other protests', y=1.03)\n",
        "plt.show()"
      ],
      "metadata": {
        "colab": {
          "base_uri": "https://localhost:8080/",
          "height": 673
        },
        "id": "qJi6QcFGHc37",
        "outputId": "bf821fd7-35e7-49e8-fcea-83dbe0921ed6"
      },
      "execution_count": 35,
      "outputs": [
        {
          "output_type": "stream",
          "name": "stdout",
          "text": [
            "                    Sig_outcome  N_protests  Share_in_total\n",
            "Long_prtst       0            0          32           66.67\n",
            "                 1            1          16           33.33\n",
            "Large_prtst      0            0          13           72.22\n",
            "                 1            1           5           27.78\n",
            "Long_large_prtst 0            0          16           50.00\n",
            "                 1            1          16           50.00\n",
            "Other_prtst      0            0         169           73.16\n",
            "                 1            1          62           26.84\n"
          ]
        },
        {
          "output_type": "display_data",
          "data": {
            "text/plain": [
              "<Figure size 500x500 with 1 Axes>"
            ],
            "image/png": "[encoded data removed]"
          },
          "metadata": {}
        }
      ]
    },
    {
      "cell_type": "markdown",
      "source": [
        "We found that among all the protests occured **'Long and large protests' achieved significant outcome in 50% of cases, 'Long protests'** in **33%** of cases, **'Large protests'** and **'Other protests'** in around **28%** and **27%** of cases **respectevily**.\n",
        "\n",
        "We will see the share of succeeded protests among these groups is different, checking for statistically significance with 95% confidence level."
      ],
      "metadata": {
        "id": "FpwOCNrO3d-2"
      }
    },
    {
      "cell_type": "code",
      "source": [
        "# Create column splitting all protest into 4 groups and conduct Chi2 test\n",
        "prot_long_large = []\n",
        "for i, v in protest.iterrows():\n",
        "  if (protest.loc[i, 'Large_prtst'] == 1) & (protest.loc[i,'Long_prtst'] == 0):\n",
        "    prot_long_large.append('Lar')\n",
        "  elif (protest.loc[i, 'Large_prtst']==0) & (protest.loc[i, 'Long_prtst']==1): prot_long_large.append('Lon')\n",
        "  elif (protest.loc[i, 'Large_prtst']==1) & (protest.loc[i, 'Long_prtst']==1): prot_long_large.append('LarLon')\n",
        "  else: prot_long_large.append('NN')\n",
        "protest['Long_Large'] = prot_long_large\n",
        "\n",
        "# Chi2 test\n",
        "expected, observed, stats = pg.chi2_independence(data=protest, x='Sig_outcome',\n",
        "                                                y='Long_Large', correction=False)\n",
        "print(stats)\n",
        "\n",
        "    "
      ],
      "metadata": {
        "colab": {
          "base_uri": "https://localhost:8080/"
        },
        "id": "5RslNHQKx73W",
        "outputId": "722cd046-1ba4-4b62-ac4c-c43871cf59a9"
      },
      "execution_count": 36,
      "outputs": [
        {
          "output_type": "stream",
          "name": "stdout",
          "text": [
            "                 test    lambda      chi2  dof      pval    cramer     power\n",
            "0             pearson  1.000000  7.475813  3.0  0.058183  0.150741  0.621199\n",
            "1        cressie-read  0.666667  7.289457  3.0  0.063222  0.148850  0.609014\n",
            "2      log-likelihood  0.000000  6.992134  3.0  0.072149  0.145783  0.589057\n",
            "3       freeman-tukey -0.500000  6.828049  3.0  0.077585  0.144062  0.577776\n",
            "4  mod-log-likelihood -1.000000  6.709047  3.0  0.081773  0.142801  0.569478\n",
            "5              neyman -2.000000  6.592106  3.0  0.086100  0.141551  0.561229\n"
          ]
        }
      ]
    },
    {
      "cell_type": "markdown",
      "source": [
        "P-value is 0.058 that is a little bit higher than 0.05 so we can´t state with 95% confidence, but we can state with 90% confidence that **persistancy in a protest activity has more influence on final results than quantity of people involved. **  **Protest activity longer than 3 months together with high quantity of protestants (more than 100 000) remarkably increase chances of a protest to achieve a significant result.**"
      ],
      "metadata": {
        "id": "Tkog5UQy6k8T"
      }
    },
    {
      "cell_type": "markdown",
      "source": [
        "***Covid Influence***\n",
        "\n",
        "Lets check if covid influenced protest activity in general.\n",
        "Count the protest group by start date."
      ],
      "metadata": {
        "id": "i2ClhdExP6Ue"
      }
    },
    {
      "cell_type": "code",
      "source": [
        "# Group the number of protest by data and covid factor\n",
        "print(protest['Strt_date'].min())\n",
        "print(protest['Strt_date'].max())\n",
        "print(protest['Strt_date'].max() - protest['Strt_date'].min())\n",
        "sns.set_palette(['#062A77', '#B11225'])\n",
        "g = sns.histplot(data=protest, x='Strt_date', hue='Covid_prtst', \n",
        "                 multiple='stack', bins=67)\n",
        "g.set(xlabel=['Covid protest', 'No covid protest'])\n",
        "plt.show()"
      ],
      "metadata": {
        "colab": {
          "base_uri": "https://localhost:8080/",
          "height": 501
        },
        "id": "ihOu6Jy0P5_G",
        "outputId": "e529136f-af0d-4dc7-db90-d3173c8da130"
      },
      "execution_count": 38,
      "outputs": [
        {
          "output_type": "stream",
          "name": "stdout",
          "text": [
            "2016-10-01 00:00:00\n",
            "2022-05-01 00:00:00\n",
            "2038 days 00:00:00\n"
          ]
        },
        {
          "output_type": "display_data",
          "data": {
            "text/plain": [
              "<Figure size 640x480 with 1 Axes>"
            ],
            "image/png": "[encoded data removed]"
          },
          "metadata": {}
        }
      ]
    },
    {
      "cell_type": "markdown",
      "source": [
        "From the plot we observed higher number of protests burst out from August 2019. We see that **there were some Covid caused protest**, with peaks in March 2020, January and July 2021. However **even not counting for covid protest we observed higher level of protest activity starting from August 2019 and until the beginning of 2022. We can assume that the covid has boosted protest activity mostly by indirect way **disclosing and deepening existing economic estrains and political tensions."
      ],
      "metadata": {
        "id": "780gwv0PRQ-W"
      }
    },
    {
      "cell_type": "markdown",
      "source": [
        "***CONCLUSION***"
      ],
      "metadata": {
        "id": "VMhQ3BdmRak5"
      }
    },
    {
      "cell_type": "markdown",
      "source": [
        "This report represent an analysis of the Global Protest Tracker dataset related to the world protest activity in a period from September 2016 to March 2022 and the Freedom House 2022 edition dataset on countries freedom scores.\n",
        "\n",
        "Descriptive analysis conducted allowed to state some limited conclusions about the protest activity in the mentioned period and some general conclusions about protests."
      ],
      "metadata": {
        "id": "BVE-RMBFRdll"
      }
    },
    {
      "cell_type": "markdown",
      "source": [
        "The **main conclusions** are:\n",
        "\n",
        "\n",
        "*   **High protest activity can be found among countries with any degree of freedom.** In the considered period the top-5 countries by number of protests were: **France, India, United States, Pakistan, Turkey**\n",
        "*   In the period considered **on average protests erupted in 'Not free' countries slightly more frequently** than in 'Free' and 'Partly free' countries\n",
        "*   In the period considered **duration of protest had more variation in countries with better freedom status**\n",
        "*   In the considered period **protest size groups were similarly distributed among countries with different freedom degree. Most of the protests attracted from 1000 to 10 000 protestants**\n",
        "*   In the considered period **Politics was the most effective trigger**. Top-3 most populated trigger groups were pure Politics, and Politics variation with other triggers\n",
        "*   In general **violent government response is not depent on country freedom status**\n",
        "*   In the considered period **the protests that faced violent response from have had higher variation in duration that those that did not face**\n",
        "*   The governments have a little bit **higher tedency to violent response to the protests that last more than 3 month and involve more than 100 000 protestants**\n",
        "*   Protest **success is not depent on governent violence and country freedom degree**\n",
        "*   In general **persistancy in a protest activity has more influence on final results than quantity of people involved.** Protest activity **longer than 3 months** together with **high quantity of protestants (more than 100 000) remarkably increase chances of a protest to achieve a significant result**\n",
        "\n",
        "*   **Covid has boosted protest activity** but more likely **by indirect way** disclosing and deepening existing economic estrains and political tensions.\n",
        "\n"
      ],
      "metadata": {
        "id": "Bkntc51fSNk0"
      }
    }
  ]
}